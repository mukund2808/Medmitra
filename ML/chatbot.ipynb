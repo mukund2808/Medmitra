{
  "cells": [
    {
      "cell_type": "code",
      "execution_count": 1,
      "metadata": {
        "id": "yNmMZ3DZfwq-",
        "colab": {
          "base_uri": "https://localhost:8080/"
        },
        "outputId": "316fea4b-fdd4-45ff-bbde-e4e1dbb18694"
      },
      "outputs": [
        {
          "output_type": "stream",
          "name": "stdout",
          "text": [
            "Looking in indexes: https://pypi.org/simple, https://us-python.pkg.dev/colab-wheels/public/simple/\n",
            "Requirement already satisfied: tflearn in /usr/local/lib/python3.10/dist-packages (0.5.0)\n",
            "Requirement already satisfied: numpy in /usr/local/lib/python3.10/dist-packages (from tflearn) (1.22.4)\n",
            "Requirement already satisfied: six in /usr/local/lib/python3.10/dist-packages (from tflearn) (1.16.0)\n",
            "Requirement already satisfied: Pillow in /usr/local/lib/python3.10/dist-packages (from tflearn) (8.4.0)\n"
          ]
        }
      ],
      "source": [
        "!pip install tflearn"
      ]
    },
    {
      "cell_type": "code",
      "execution_count": 2,
      "metadata": {
        "id": "Z8nErLpshtka",
        "colab": {
          "base_uri": "https://localhost:8080/"
        },
        "outputId": "fead1a4c-0ae6-4678-e879-0d98d98f0f46"
      },
      "outputs": [
        {
          "output_type": "stream",
          "name": "stderr",
          "text": [
            "[nltk_data] Downloading package punkt to /root/nltk_data...\n",
            "[nltk_data]   Package punkt is already up-to-date!\n",
            "[nltk_data] Downloading package wordnet to /root/nltk_data...\n",
            "[nltk_data]   Package wordnet is already up-to-date!\n"
          ]
        }
      ],
      "source": [
        "import json\n",
        "import string\n",
        "import random \n",
        "import nltk\n",
        "import numpy as np\n",
        "from nltk.stem import WordNetLemmatizer \n",
        "import tensorflow as tf \n",
        "from tensorflow.keras import Sequential \n",
        "from tensorflow.keras.layers import Dense, Dropout\n",
        "nltk.download(\"punkt\")\n",
        "nltk.download(\"wordnet\")\n",
        "import warnings\n",
        "warnings.filterwarnings('ignore')"
      ]
    },
    {
      "cell_type": "code",
      "execution_count": 3,
      "metadata": {
        "id": "lKYKUq-5fhnS",
        "colab": {
          "base_uri": "https://localhost:8080/"
        },
        "outputId": "01c784e2-4e79-459a-b2e2-3ecf4494d7b0"
      },
      "outputs": [
        {
          "output_type": "stream",
          "name": "stderr",
          "text": [
            "WARNING:tensorflow:From /usr/local/lib/python3.10/dist-packages/tensorflow/python/compat/v2_compat.py:107: disable_resource_variables (from tensorflow.python.ops.variable_scope) is deprecated and will be removed in a future version.\n",
            "Instructions for updating:\n",
            "non-resource variables are not supported in the long term\n"
          ]
        }
      ],
      "source": [
        "import numpy\n",
        "import tflearn\n",
        "import tensorflow as tf\n",
        "import random\n",
        "import json\n",
        "import pickle"
      ]
    },
    {
      "cell_type": "code",
      "execution_count": 4,
      "metadata": {
        "id": "Pw5RdjIahM2J"
      },
      "outputs": [],
      "source": [
        "import nltk\n",
        "from nltk.stem.lancaster import LancasterStemmer\n",
        "stemmer = LancasterStemmer()"
      ]
    },
    {
      "cell_type": "code",
      "execution_count": 5,
      "metadata": {
        "id": "y2b3XdgZfkD_",
        "colab": {
          "base_uri": "https://localhost:8080/"
        },
        "outputId": "06abf72e-8c50-4736-93da-aaa22f63a49b"
      },
      "outputs": [
        {
          "output_type": "stream",
          "name": "stdout",
          "text": [
            "Drive already mounted at /content/gdrive/; to attempt to forcibly remount, call drive.mount(\"/content/gdrive/\", force_remount=True).\n"
          ]
        }
      ],
      "source": [
        "from google.colab import drive\n",
        "drive.mount(\"/content/gdrive/\")"
      ]
    },
    {
      "cell_type": "code",
      "execution_count": 6,
      "metadata": {
        "id": "WRgUZ2ZggS_r"
      },
      "outputs": [],
      "source": [
        "with open('/content/gdrive/MyDrive/int.json') as file:\n",
        "    data = json.load(file)"
      ]
    },
    {
      "cell_type": "code",
      "execution_count": 7,
      "metadata": {
        "id": "nYX86zhCknaI",
        "colab": {
          "base_uri": "https://localhost:8080/"
        },
        "outputId": "62f4c5d5-138c-48f5-b75c-a8d959dda240"
      },
      "outputs": [
        {
          "output_type": "execute_result",
          "data": {
            "text/plain": [
              "{'intents': [{'intent': 'feeling',\n",
              "   'patterns': ['I am not feeling well',\n",
              "    'I feel sick',\n",
              "    'I am sick',\n",
              "    'I have a headache',\n",
              "    \"I'm experiencing nausea\",\n",
              "    'I have a fever',\n",
              "    'I am having fever',\n",
              "    'My throat hurts',\n",
              "    \"I'm feeling tired\",\n",
              "    'I have a cough',\n",
              "    'I have a stomach ache',\n",
              "    'My back hurts',\n",
              "    'I am experiencing cough',\n",
              "    'I am not feeling good',\n",
              "    'I am ill',\n",
              "    'I feel ill',\n",
              "    'My health is bad',\n",
              "    'I am not well'],\n",
              "   'responses': [\"I'm sorry to hear that. Can you tell me more about your symptoms?\",\n",
              "    \"I'm sorry you're not feeling well. Can you describe your symptoms for me?\",\n",
              "    'Sorry to hear that. Can you please provide me with more information about your symptoms?',\n",
              "    \"I'm sorry to hear that. Can you tell me where it hurts and what other symptoms you're experiencing?\",\n",
              "    \"I'm here to help. Can you tell me more about your symptoms?\"]},\n",
              "  {'intent': 'back_pain',\n",
              "   'patterns': [\"My back has been hurting for a few days now. It's a dull ache that doesn't seem to go away, no matter what I do.\",\n",
              "    \"I pulled a muscle in my back and it's really painful. It hurts to move and I'm having trouble sleeping.\",\n",
              "    \"I have a sharp pain in my lower back that's been bothering me for a few days now. It's making it hard to do my daily activities.\",\n",
              "    \"I woke up this morning with a really stiff back. I can barely move and it's really uncomfortable.\",\n",
              "    'I am experiencing back pain',\n",
              "    'My back hurts all the time.',\n",
              "    'I am having a severe back pain',\n",
              "    'My back pain a lot',\n",
              "    'I am experiencing back ache',\n",
              "    'My back is really hurting.',\n",
              "    'I have a sharp pain in my lower back.',\n",
              "    \"I can't move my back without feeling pain.\",\n",
              "    'My back feels stiff and sore.',\n",
              "    'I think I pulled a muscle in my back.',\n",
              "    \"I've been having back pain for a few days now.\",\n",
              "    \"I can't stand up straight because of the pain in my back.\",\n",
              "    'The pain in my back is radiating down my leg.',\n",
              "    \"My back feels like it's on fire.\",\n",
              "    'I am having a terrible back pain.',\n",
              "    'I am having a back pain'],\n",
              "   'responses': ['Sorry to hear about your back pain. Have you tried some exercises to ease the pain?',\n",
              "    'Back pain can be tough to deal with. Have you tried doing some gentle stretching exercises?',\n",
              "    'To alleviate your symptoms, have you tried stretching exercises that focus?',\n",
              "    'Have you tried some stretching exercises?']},\n",
              "  {'intent': 'Yes_I_have_tried_still_back_pain',\n",
              "   'patterns': ['Yes, I have tried exercising but still my back is paining.',\n",
              "    'Yes, I did try but pain is still there.',\n",
              "    'Yes I have tried',\n",
              "    'Yes, I have tried exercising',\n",
              "    'Yes, for back pain I have tried exercising.',\n",
              "    'Yes, even after exercising, pain is still there',\n",
              "    'Yes, the pain still persists',\n",
              "    'Yes, I have tried exercising everyday but still it hurts',\n",
              "    'Yes, I have tried exercising everyday but pain still persists',\n",
              "    'Yes, I have been exercising everyday but still back is paining',\n",
              "    'Yes, back still hurts though',\n",
              "    'Yes, but my back still pains even after exercising'],\n",
              "   'responses': ['Great! Are you taking any medication to ease your pain?',\n",
              "    'Would you like me to schedule an appointment with our doctor?',\n",
              "    'I will try my best to help you, would you like to consult our doctor?']},\n",
              "  {'intent': \"No_haven't\",\n",
              "   'patterns': [\"No, I haven't tried any exercises yet.\",\n",
              "    'No, I did not exercise.',\n",
              "    \"No, I haven't exercised\",\n",
              "    'No',\n",
              "    'No ',\n",
              "    'Kindly schedule an appointment',\n",
              "    'Yes, schedule an appointment with the doctor',\n",
              "    'Please schedule',\n",
              "    'Yes, book an appointment with the doctor',\n",
              "    'Yes, schedule the appoitment with the doctor available'],\n",
              "   'responses': ['No issues, would you like me to schedule an appointment with our doctor?',\n",
              "    'Alright, would you like to consult our doctor?']},\n",
              "  {'intent': 'cough',\n",
              "   'patterns': [\"I've been feeling really tired and achy lately, and I can't seem to shake this cough.\",\n",
              "    \"I've been coughing a lot and it's really starting to worry me. I'm also experiencing some chest pain.\",\n",
              "    \"I have a fever and my throat is really sore. I'm having trouble swallowing and my glands are swollen.\",\n",
              "    \"I've been having some shortness of breath and wheezing. My cough has been persistent for several days now.\",\n",
              "    \"I have a runny nose and a cough that won't go away. I'm also feeling really fatigued and achy.\",\n",
              "    \"I have a cough and it's really starting to interfere with my daily activities. I'm also experiencing some chest congestion.\",\n",
              "    \"I've been coughing up phlegm and my chest feels really tight. It's hard to take deep breaths and I feel short of breath.\",\n",
              "    \"I have a cough and a headache that won't go away. I'm also experiencing some body aches and fatigue.\",\n",
              "    \"I have a dry, hacking cough and it's really starting to irritate my throat. I'm also feeling really run down and tired.\",\n",
              "    \"I have a cough and a fever that won't go away. I'm also experiencing some chills and body aches.\",\n",
              "    \"I have a persistent cough and my throat is really sore. It's also hard to breathe deeply without coughing.\",\n",
              "    \"I have a cough and my chest hurts when I breathe. It's also hard to take deep breaths without coughing.\",\n",
              "    \"I have a cough that's been going on for several days now. It's also causing me to have trouble sleeping at night.\",\n",
              "    \"I have a cough and it's really starting to interfere with my daily activities. I'm also experiencing some shortness of breath.\",\n",
              "    \"I have a cough and my nose is really congested. It's also hard to breathe through my nose without coughing.\",\n",
              "    \"I have a cough and I'm experiencing some chest pain and tightness. It's also hard to take deep breaths without coughing.\",\n",
              "    \"I have a cough and my throat is really scratchy and sore. It's also hard to swallow without coughing.\",\n",
              "    \"I have a cough and I'm feeling really fatigued and run down. It's also hard to concentrate on anything.\",\n",
              "    'I am having cough',\n",
              "    'I am having flu symptoms',\n",
              "    'I am having extreme cough and chest pain',\n",
              "    'I am having extreme cough',\n",
              "    'I am persistently coughing',\n",
              "    \"My coughing won't stop\",\n",
              "    'I am coughing a lot'],\n",
              "   'responses': [\"Coughing can be caused by a number of things, such as a cold, flu, or allergies. It's important to get plenty of rest and stay hydrated. Try using a humidifier to moisten the air and avoid irritants like smoke or pollution. You can also try some cough suppressants or over-the-counter remedies to help ease your symptoms. If your cough persists or worsens, please consider scheduling an appointment with a doctor for further evaluation.\",\n",
              "    \"A persistent cough can be a sign of a more serious condition, such as bronchitis or pneumonia. It's important to rest and stay hydrated, and to avoid irritants like smoke or pollution. You can also try some cough suppressants or over-the-counter remedies to help ease your symptoms. If your cough persists or worsens, please consider scheduling an appointment with a doctor for further evaluation.\",\n",
              "    'Gargling with salt water or drinking warm liquids like tea with honey can also help soothe a sore throat and reduce coughing. You can also try breathing in steam from a hot shower or humidifier to help loosen mucus in your chest. If your symptoms persist or worsen, please consider scheduling an appointment with a doctor for further evaluation.',\n",
              "    \"If you have a productive cough, it's important to stay hydrated and consider using an expectorant to help clear mucus from your lungs. You can also try some cough suppressants or over-the-counter remedies to ease your symptoms.\",\n",
              "    \"Coughing can be caused by a variety of factors, such as a viral infection or allergies. It's important to stay hydrated, avoid irritants, and consider using a cough suppressant to ease your symptoms.\"]},\n",
              "  {'intent': 'nausea',\n",
              "   'patterns': [\"I've been feeling really nauseous all day. I can't seem to keep anything down.\",\n",
              "    'Every time I eat, I feel nauseous and sometimes even vomit. What could be causing this?',\n",
              "    \"I woke up this morning feeling really sick to my stomach. I've been feeling nauseous all day.\",\n",
              "    \"I'm feeling really dizzy and nauseous. What should I do?\",\n",
              "    \"I feel like I'm going to throw up. I have this constant feeling of nausea.\",\n",
              "    \"I've been feeling nauseous on and off for a few days now. What could be causing this?\",\n",
              "    \"I ate something earlier and now I'm feeling really nauseous. What should I do?\",\n",
              "    \"I'm feeling really sick to my stomach and I don't know why. I've been feeling nauseous all day.\",\n",
              "    \"I've been experiencing nausea and stomach pain for the past few hours. What could be causing this?\",\n",
              "    \"I feel like I'm going to be sick. I've been experiencing nausea for a while now.\",\n",
              "    'I am experiencing nausea',\n",
              "    'I feel like vomiting',\n",
              "    'I have been vomiting all day'],\n",
              "   'responses': [\"Nausea can be caused by a variety of things, such as a stomach virus or food poisoning. It's important to stay hydrated and rest as much as possible. Try eating small, bland meals and avoid foods that may upset your stomach. If your symptoms persist or worsen, please consider scheduling an appointment with a doctor for further evaluation.\",\n",
              "    \"It's possible that you have a stomach bug or food poisoning. It's important to stay hydrated and rest as much as possible. Try eating small, bland meals and avoid foods that may upset your stomach. If your symptoms persist or worsen, please consider scheduling an appointment with a doctor for further evaluation.\",\n",
              "    \"Nausea can be a symptom of many different things, including a stomach bug, food poisoning, or even anxiety. It's important to stay hydrated and rest as much as possible. Try eating small, bland meals and avoid foods that may upset your stomach. If your symptoms persist or worsen, please consider scheduling an appointment with a doctor for further evaluation.\",\n",
              "    \"It's possible that you have vertigo, which can cause dizziness and nausea. It's important to stay hydrated and rest as much as possible. If your symptoms persist or worsen, please consider scheduling an appointment with a doctor for further evaluation.\",\n",
              "    \"Nausea can be caused by a variety of things, such as a stomach virus or food poisoning. It's important to stay hydrated and rest as much as possible. Try eating small, bland meals and avoid foods that may upset your stomach. If your symptoms persist or worsen, please consider scheduling an appointment with a doctor for further evaluation.\"]},\n",
              "  {'intent': 'Goodbye',\n",
              "   'patterns': ['Thank you',\n",
              "    'Thanks for helping',\n",
              "    'Bye',\n",
              "    'Goodbye',\n",
              "    'Alright, thanks!'],\n",
              "   'responses': ['Thank you for using MedMitra. We hope we were able to assist you. Take care and feel better soon!',\n",
              "    \"If you have any more health-related questions or concerns, don't hesitate to reach out to us. Stay healthy!\",\n",
              "    \"Remember to prioritize your health and wellness. If you have any further questions, don't hesitate to ask. Goodbye!\",\n",
              "    \"We're glad we could help. If you have any more concerns, don't hesitate to reach out to us. Take care!\",\n",
              "    'Thank you for choosing MedMitra. If you have any feedback, please let us know. Goodbye!']},\n",
              "  {'intent': 'Schedule',\n",
              "   'patterns': ['Yes, I would like to schedule an appointment with the doctor',\n",
              "    'Yes, please schedule',\n",
              "    'Yes, kindly schedule',\n",
              "    'Yes Schedule',\n",
              "    'Yes schedule appointment with the doctor'],\n",
              "   'responses': ['Alright scheduling! You will recieve a message shortly regarding your appointment details.',\n",
              "    'Your appointment will be scheduled shortly. Kindly check messages from our end regarding appointment details.']}]}"
            ]
          },
          "metadata": {},
          "execution_count": 7
        }
      ],
      "source": [
        "data"
      ]
    },
    {
      "cell_type": "code",
      "execution_count": 8,
      "metadata": {
        "id": "YPs3YQD3gv6E"
      },
      "outputs": [],
      "source": [
        "# initializing lemmatizer to get stem of words\n",
        "lemmatizer = WordNetLemmatizer()\n",
        "# Each list to create\n",
        "words = []\n",
        "classes = []\n",
        "doc_X = []\n",
        "doc_y = []\n",
        "# Loop through all the intents\n",
        "# tokenize each pattern and append tokens to words, the patterns and\n",
        "# the associated tag to their associated list\n",
        "for intent in data[\"intents\"]:\n",
        "    for pattern in intent[\"patterns\"]:\n",
        "        tokens = nltk.word_tokenize(pattern)\n",
        "        words.extend(tokens)\n",
        "        doc_X.append(pattern)\n",
        "        doc_y.append(intent[\"intent\"])\n",
        "    \n",
        "    # add the tag to the classes if it's not there already \n",
        "    if intent[\"intent\"] not in classes:\n",
        "        classes.append(intent[\"intent\"])\n",
        "# lemmatize all the words in the vocab and convert them to lowercase\n",
        "# if the words don't appear in punctuation\n",
        "words = [lemmatizer.lemmatize(word.lower()) for word in words if word not in string.punctuation]\n",
        "# sorting the vocab and classes in alphabetical order and taking the # set to ensure no duplicates occur\n",
        "words = sorted(set(words))\n",
        "classes = sorted(set(classes))"
      ]
    },
    {
      "cell_type": "code",
      "execution_count": 9,
      "metadata": {
        "id": "tz6kD45qhDM2",
        "colab": {
          "base_uri": "https://localhost:8080/"
        },
        "outputId": "03863b3b-017d-492e-f089-e4a14b2238c3"
      },
      "outputs": [
        {
          "output_type": "execute_result",
          "data": {
            "text/plain": [
              "[\"'m\",\n",
              " \"'s\",\n",
              " \"'ve\",\n",
              " 'a',\n",
              " 'ache',\n",
              " 'achy',\n",
              " 'activity',\n",
              " 'after',\n",
              " 'all',\n",
              " 'alright',\n",
              " 'also',\n",
              " 'am',\n",
              " 'an',\n",
              " 'and',\n",
              " 'any',\n",
              " 'anything',\n",
              " 'appointment',\n",
              " 'appoitment',\n",
              " 'are',\n",
              " 'at',\n",
              " 'ate',\n",
              " 'available',\n",
              " 'away',\n",
              " 'back',\n",
              " 'bad',\n",
              " 'barely',\n",
              " 'be',\n",
              " 'because',\n",
              " 'been',\n",
              " 'body',\n",
              " 'book',\n",
              " 'bothering',\n",
              " 'breath',\n",
              " 'breathe',\n",
              " 'but',\n",
              " 'bye',\n",
              " 'ca',\n",
              " 'can',\n",
              " 'causing',\n",
              " 'chest',\n",
              " 'chill',\n",
              " 'concentrate',\n",
              " 'congested',\n",
              " 'congestion',\n",
              " 'constant',\n",
              " 'cough',\n",
              " 'coughing',\n",
              " 'could',\n",
              " 'daily',\n",
              " 'day',\n",
              " 'deep',\n",
              " 'deeply',\n",
              " 'did',\n",
              " 'dizzy',\n",
              " 'do',\n",
              " 'doctor',\n",
              " 'doe',\n",
              " 'down',\n",
              " 'dry',\n",
              " 'dull',\n",
              " 'earlier',\n",
              " 'eat',\n",
              " 'even',\n",
              " 'every',\n",
              " 'everyday',\n",
              " 'exercise',\n",
              " 'exercised',\n",
              " 'exercising',\n",
              " 'experiencing',\n",
              " 'extreme',\n",
              " 'fatigue',\n",
              " 'fatigued',\n",
              " 'feel',\n",
              " 'feeling',\n",
              " 'fever',\n",
              " 'few',\n",
              " 'fire',\n",
              " 'flu',\n",
              " 'for',\n",
              " 'gland',\n",
              " 'go',\n",
              " 'going',\n",
              " 'good',\n",
              " 'goodbye',\n",
              " 'ha',\n",
              " 'hacking',\n",
              " 'hard',\n",
              " 'have',\n",
              " 'having',\n",
              " 'headache',\n",
              " 'health',\n",
              " 'helping',\n",
              " 'hour',\n",
              " 'hurt',\n",
              " 'hurting',\n",
              " 'i',\n",
              " 'ill',\n",
              " 'in',\n",
              " 'interfere',\n",
              " 'irritate',\n",
              " 'is',\n",
              " 'it',\n",
              " 'keep',\n",
              " 'kindly',\n",
              " 'know',\n",
              " 'lately',\n",
              " 'leg',\n",
              " 'like',\n",
              " 'lot',\n",
              " 'lower',\n",
              " 'making',\n",
              " 'matter',\n",
              " 'me',\n",
              " 'morning',\n",
              " 'move',\n",
              " 'muscle',\n",
              " 'my',\n",
              " \"n't\",\n",
              " 'nausea',\n",
              " 'nauseous',\n",
              " 'night',\n",
              " 'no',\n",
              " 'nose',\n",
              " 'not',\n",
              " 'now',\n",
              " 'of',\n",
              " 'off',\n",
              " 'on',\n",
              " 'pain',\n",
              " 'painful',\n",
              " 'paining',\n",
              " 'past',\n",
              " 'persistent',\n",
              " 'persistently',\n",
              " 'persists',\n",
              " 'phlegm',\n",
              " 'please',\n",
              " 'pulled',\n",
              " 'radiating',\n",
              " 'really',\n",
              " 'run',\n",
              " 'runny',\n",
              " 'schedule',\n",
              " 'scratchy',\n",
              " 'seem',\n",
              " 'several',\n",
              " 'severe',\n",
              " 'shake',\n",
              " 'sharp',\n",
              " 'short',\n",
              " 'shortness',\n",
              " 'should',\n",
              " 'sick',\n",
              " 'sleeping',\n",
              " 'some',\n",
              " 'something',\n",
              " 'sometimes',\n",
              " 'sore',\n",
              " 'stand',\n",
              " 'starting',\n",
              " 'stiff',\n",
              " 'still',\n",
              " 'stomach',\n",
              " 'stop',\n",
              " 'straight',\n",
              " 'swallow',\n",
              " 'swallowing',\n",
              " 'swollen',\n",
              " 'symptom',\n",
              " 'take',\n",
              " 'terrible',\n",
              " 'thank',\n",
              " 'thanks',\n",
              " 'that',\n",
              " 'the',\n",
              " 'there',\n",
              " 'think',\n",
              " 'this',\n",
              " 'though',\n",
              " 'throat',\n",
              " 'through',\n",
              " 'throw',\n",
              " 'tight',\n",
              " 'tightness',\n",
              " 'time',\n",
              " 'tired',\n",
              " 'to',\n",
              " 'tried',\n",
              " 'trouble',\n",
              " 'try',\n",
              " 'uncomfortable',\n",
              " 'up',\n",
              " 'vomit',\n",
              " 'vomiting',\n",
              " 'well',\n",
              " 'what',\n",
              " 'wheezing',\n",
              " 'when',\n",
              " 'while',\n",
              " 'why',\n",
              " 'with',\n",
              " 'without',\n",
              " 'wo',\n",
              " 'woke',\n",
              " 'worry',\n",
              " 'would',\n",
              " 'yes',\n",
              " 'yet',\n",
              " 'you']"
            ]
          },
          "metadata": {},
          "execution_count": 9
        }
      ],
      "source": [
        "words"
      ]
    },
    {
      "cell_type": "code",
      "execution_count": 10,
      "metadata": {
        "id": "PAdrGFQviULV"
      },
      "outputs": [],
      "source": [
        "# list for training data\n",
        "training = []\n",
        "out_empty = [0] * len(classes)\n",
        "# creating the bag of words model\n",
        "for idx, doc in enumerate(doc_X):\n",
        "    bow = []\n",
        "    text = lemmatizer.lemmatize(doc.lower())\n",
        "    for word in words:\n",
        "        bow.append(1) if word in text else bow.append(0)\n",
        "    # mark the index of class that the current pattern is associated\n",
        "    # to\n",
        "    output_row = list(out_empty)\n",
        "    output_row[classes.index(doc_y[idx])] = 1\n",
        "    # add the one hot encoded BoW and associated classes to training \n",
        "    training.append([bow, output_row])\n",
        "# shuffle the data and convert it to an array\n",
        "random.shuffle(training)\n",
        "training = np.array(training, dtype=object)\n",
        "# split the features and target labels\n",
        "train_X = np.array(list(training[:, 0]))\n",
        "train_y = np.array(list(training[:, 1]))"
      ]
    },
    {
      "cell_type": "code",
      "execution_count": 11,
      "metadata": {
        "id": "MFgDmd-yi0Qc",
        "colab": {
          "base_uri": "https://localhost:8080/"
        },
        "outputId": "bf6dcb33-fffe-4f44-b756-666daab6776f"
      },
      "outputs": [
        {
          "output_type": "stream",
          "name": "stderr",
          "text": [
            "WARNING:absl:There is a known slowdown when using v2.11+ Keras optimizers on M1/M2 Macs. Falling back to the legacy Keras optimizer, i.e., `tf.keras.optimizers.legacy.Adam`.\n"
          ]
        },
        {
          "output_type": "stream",
          "name": "stdout",
          "text": [
            "Model: \"sequential\"\n",
            "_________________________________________________________________\n",
            " Layer (type)                Output Shape              Param #   \n",
            "=================================================================\n",
            " dense (Dense)               (None, 128)               26880     \n",
            "                                                                 \n",
            " dense_1 (Dense)             (None, 64)                8256      \n",
            "                                                                 \n",
            " dense_2 (Dense)             (None, 8)                 520       \n",
            "                                                                 \n",
            "=================================================================\n",
            "Total params: 35,656\n",
            "Trainable params: 35,656\n",
            "Non-trainable params: 0\n",
            "_________________________________________________________________\n",
            "None\n",
            "Train on 108 samples\n",
            "Epoch 1/10\n",
            "108/108 [==============================] - 1s 7ms/sample - loss: 1.8820 - acc: 0.1667\n",
            "Epoch 2/10\n",
            "108/108 [==============================] - 0s 179us/sample - loss: 1.1210 - acc: 0.6944\n",
            "Epoch 3/10\n",
            "108/108 [==============================] - 0s 161us/sample - loss: 0.6223 - acc: 0.8796\n",
            "Epoch 4/10\n",
            "108/108 [==============================] - 0s 147us/sample - loss: 0.3424 - acc: 0.9074\n",
            "Epoch 5/10\n",
            "108/108 [==============================] - 0s 144us/sample - loss: 0.1671 - acc: 0.9722\n",
            "Epoch 6/10\n",
            "108/108 [==============================] - 0s 155us/sample - loss: 0.1139 - acc: 0.9630\n",
            "Epoch 7/10\n",
            "108/108 [==============================] - 0s 152us/sample - loss: 0.0876 - acc: 0.9815\n",
            "Epoch 8/10\n",
            "108/108 [==============================] - 0s 157us/sample - loss: 0.0621 - acc: 0.9815\n",
            "Epoch 9/10\n",
            "108/108 [==============================] - 0s 199us/sample - loss: 0.0441 - acc: 0.9907\n",
            "Epoch 10/10\n",
            "108/108 [==============================] - 0s 190us/sample - loss: 0.0261 - acc: 0.9907\n"
          ]
        },
        {
          "output_type": "execute_result",
          "data": {
            "text/plain": [
              "<keras.callbacks.History at 0x7f278e5d7820>"
            ]
          },
          "metadata": {},
          "execution_count": 11
        }
      ],
      "source": [
        "input_shape = (len(train_X[0]),)\n",
        "output_shape = len(train_y[0])\n",
        "epochs = 10\n",
        "# the deep learning model\n",
        "model = Sequential()\n",
        "model.add(Dense(128, input_shape=input_shape, activation=\"relu\"))\n",
        "model.add(Dense(64, activation=\"relu\"))\n",
        "model.add(Dense(output_shape, activation = \"softmax\"))\n",
        "initial_learning_rate = 0.01\n",
        "decay_steps = 10000\n",
        "decay_rate = 0.9\n",
        "learning_rate_fn = tf.keras.optimizers.schedules.ExponentialDecay(\n",
        "    initial_learning_rate, decay_steps, decay_rate)\n",
        "adam = tf.keras.optimizers.Adam(learning_rate_fn)\n",
        "\n",
        "model.compile(loss='categorical_crossentropy',\n",
        "              optimizer=adam,\n",
        "              metrics=[\"accuracy\"])\n",
        "print(model.summary())\n",
        "model.fit(x=train_X, y=train_y, epochs=10, verbose=1)"
      ]
    },
    {
      "cell_type": "code",
      "execution_count": 12,
      "metadata": {
        "id": "D1KnKyV1i83K"
      },
      "outputs": [],
      "source": [
        "def clean_text(text): \n",
        "  tokens = nltk.word_tokenize(text)\n",
        "  tokens = [lemmatizer.lemmatize(word) for word in tokens]\n",
        "  return tokens\n",
        "\n",
        "def bag_of_words(text, vocab): \n",
        "  tokens = clean_text(text)\n",
        "  bow = [0] * len(vocab)\n",
        "  for w in tokens: \n",
        "    for idx, word in enumerate(vocab):\n",
        "      if word == w: \n",
        "        bow[idx] = 1\n",
        "  return np.array(bow)\n",
        "\n",
        "def pred_class(text, vocab, labels): \n",
        "  bow = bag_of_words(text, vocab)\n",
        "  result = model.predict(np.array([bow]))[0]\n",
        "  thresh = 0.2\n",
        "  y_pred = [[idx, res] for idx, res in enumerate(result) if res > thresh]\n",
        "\n",
        "  y_pred.sort(key=lambda x: x[1], reverse=True)\n",
        "  return_list = []\n",
        "  for r in y_pred:\n",
        "    return_list.append(labels[r[0]])\n",
        "  return return_list\n",
        "\n",
        "def get_response(intents_list, intents_json): \n",
        "  tag = intents_list[0]\n",
        "  list_of_intents = intents_json[\"intents\"]\n",
        "  for i in list_of_intents: \n",
        "    if i[\"intent\"] == tag:\n",
        "      result = random.choice(i[\"responses\"])\n",
        "      break\n",
        "  return result"
      ]
    },
    {
      "cell_type": "code",
      "execution_count": null,
      "metadata": {
        "id": "hURoBP2Gj2jw",
        "colab": {
          "base_uri": "https://localhost:8080/"
        },
        "outputId": "1b9f4f61-0430-46d5-f39e-c357ab7e13e3"
      },
      "outputs": [
        {
          "output_type": "stream",
          "name": "stdout",
          "text": [
            "Good day! I'm Mitra, your friendly healthcare chatbot. What brings you here today?\n",
            "I am not feeling good\n",
            "I'm sorry you're not feeling well. Can you describe your symptoms for me?\n",
            "I am experiencing back pain\n",
            "Back pain can be tough to deal with. Have you tried doing some gentle stretching exercises?\n",
            "Yes but still the pain persists\n",
            "Great! Are you taking any medication to ease your pain?\n",
            "Yes, but still there is back pain\n",
            "Would you like me to schedule an appointment with our doctor?\n",
            "Yes kindly schedule\n",
            "Your appointment will be scheduled shortly. Kindly check messages from our end regarding appointment details.\n",
            "Thank you\n",
            "Remember to prioritize your health and wellness. If you have any further questions, don't hesitate to ask. Goodbye!\n"
          ]
        }
      ],
      "source": [
        "patterns = (\"Welcome to our healthcare app! I'm Mitra, your virtual assistant. How can I help you today?\",\n",
        "        \"Hi there! I'm Mitra, your personal healthcare assistant. What can I do for you?\",\n",
        "        \"Hello! My name is Mitra, and I'm here to assist you with any healthcare-related questions or concerns you may have. How can I be of service today?\",\n",
        "        \"Good day! I'm Mitra, your friendly healthcare chatbot. What brings you here today?\"\n",
        ")\n",
        "print(random.choice(patterns))\n",
        "# running the chatbot\n",
        "while True:\n",
        "    message = input(\"\")\n",
        "    intents = pred_class(message, words, classes)\n",
        "    result = get_response(intents, data)\n",
        "    print(result)"
      ]
    },
    {
      "cell_type": "code",
      "execution_count": null,
      "metadata": {
        "id": "Foz52SP9j6Th"
      },
      "outputs": [],
      "source": []
    }
  ],
  "metadata": {
    "accelerator": "GPU",
    "colab": {
      "provenance": []
    },
    "gpuClass": "standard",
    "kernelspec": {
      "display_name": "Python 3",
      "name": "python3"
    },
    "language_info": {
      "name": "python"
    }
  },
  "nbformat": 4,
  "nbformat_minor": 0
}